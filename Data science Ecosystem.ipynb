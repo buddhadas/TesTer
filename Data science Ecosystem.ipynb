{
 "cells": [
  {
   "cell_type": "markdown",
   "id": "af4379d3-6079-44b0-9c13-4774eb59dfd8",
   "metadata": {},
   "source": [
    "# Data Science Tools and Ecosystem"
   ]
  },
  {
   "cell_type": "markdown",
   "id": "72913992-a95c-4530-b5f2-d005bea53735",
   "metadata": {
    "scrolled": true
   },
   "source": [
    "In this notebook, Data Science Tools and Ecosystem are summarized."
   ]
  },
  {
   "cell_type": "markdown",
   "id": "a563a02a-dd41-4aff-8afc-bd2868cc253e",
   "metadata": {},
   "source": [
    "Some of the popular languages that Data Scientists use are:\n",
    "1) java\n",
    "2) python\n",
    "3) c++\n",
    "4) SQL\n",
    "5) Ruby\n",
    "6) R, etc"
   ]
  },
  {
   "cell_type": "markdown",
   "id": "5b6012ee-2ebc-444c-a19d-95441a579c8b",
   "metadata": {},
   "source": [
    "Some of the commonly used libraries used by Data Scientists include:\n",
    "1) pandas\n",
    "2) tensorflow\n",
    "3) numpy\n",
    "4) scipy\n",
    "5) matplotlib\n",
    "6) keras\n",
    "7) pytorch\n",
    "8) sci-kit learn, etc."
   ]
  },
  {
   "cell_type": "markdown",
   "id": "e0c838c7-1756-4f2b-9bf5-b2010695b9d7",
   "metadata": {},
   "source": [
    "|Data Science Tools|\n",
    "|----|\n",
    "|1) tableau|\n",
    "|2) python|\n",
    "|3) KNIME|\n",
    "|4) Apache Spark|\n",
    "|5) SQL|\n",
    "|6) Apache Hadoop|"
   ]
  },
  {
   "cell_type": "markdown",
   "id": "a145e3b4-6a5e-4436-ab41-a5adfba52d8a",
   "metadata": {},
   "source": [
    "### Below are a few examples of evaluating arithmetic expressions in Python:"
   ]
  },
  {
   "cell_type": "code",
   "execution_count": 14,
   "id": "e437f4c9-f8c6-43b0-871f-55e83d10fb72",
   "metadata": {},
   "outputs": [
    {
     "data": {
      "text/plain": [
       "17"
      ]
     },
     "execution_count": 14,
     "metadata": {},
     "output_type": "execute_result"
    }
   ],
   "source": [
    "# This a simple arithmetic expression to mutiply then add integers\n",
    "(3*4)+5"
   ]
  },
  {
   "cell_type": "code",
   "execution_count": 10,
   "id": "67051431-13a1-4794-b03f-729a9ab950a5",
   "metadata": {},
   "outputs": [
    {
     "data": {
      "text/plain": [
       "3.3333333333333335"
      ]
     },
     "execution_count": 10,
     "metadata": {},
     "output_type": "execute_result"
    }
   ],
   "source": [
    "# This will convert 200 minutes to hours by diving by 60:\n",
    "200/60"
   ]
  },
  {
   "cell_type": "markdown",
   "id": "acba29c2-896e-4b5a-a68e-155ac8bc9ace",
   "metadata": {},
   "source": [
    "**LIST OF OBJECTIVES:**\n",
    "* Learn using jupyternotebbok\n",
    "* list popular data science languages\n",
    "* list popular data science libraries\n",
    "* list os data science tools\n",
    "* how to comment in a cell"
   ]
  },
  {
   "cell_type": "markdown",
   "id": "5ff1534c-0ce5-4565-a8e5-da339b698a88",
   "metadata": {},
   "source": [
    "## Author\n",
    "Das. B."
   ]
  }
 ],
 "metadata": {
  "kernelspec": {
   "display_name": "Python 3 (ipykernel)",
   "language": "python",
   "name": "python3"
  },
  "language_info": {
   "codemirror_mode": {
    "name": "ipython",
    "version": 3
   },
   "file_extension": ".py",
   "mimetype": "text/x-python",
   "name": "python",
   "nbconvert_exporter": "python",
   "pygments_lexer": "ipython3",
   "version": "3.12.2"
  }
 },
 "nbformat": 4,
 "nbformat_minor": 5
}
